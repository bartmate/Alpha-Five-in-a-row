{
 "cells": [
  {
   "cell_type": "code",
   "execution_count": 1,
   "metadata": {},
   "outputs": [
    {
     "name": "stderr",
     "output_type": "stream",
     "text": [
      "Using TensorFlow backend.\n"
     ]
    }
   ],
   "source": [
    "import numpy as np\n",
    "import copy\n",
    "\n",
    "from MCTS import MCTS\n",
    "from Game import Game \n",
    "from model import AmoebaZeroModel"
   ]
  },
  {
   "cell_type": "code",
   "execution_count": null,
   "metadata": {
    "collapsed": true
   },
   "outputs": [],
   "source": [
    "HISTORY_SIZE     = 100000 #Number of stored states (not games)\n",
    "BATCH_SIZE       = 256\n",
    "TRAINING_LOOP_NR = 1000\n",
    "SELFPLAY_NR      = 100\n",
    "EVAL_NR          = 40\n",
    "THRESHOLD        = 4\n",
    "\n",
    "class Pipeline:\n",
    "    def __init__(self):\n",
    "        self.history_input = np.zeros( (HISTORY_SIZE,15,15,4))\n",
    "        self.history_p     = np.zeros( (HISTORY_SIZE,225))\n",
    "        self.history_v     = np.zeros( (HISTORY_SIZE))\n",
    "        self.next_index    = 0\n",
    "        self.history_nr    = 0\n",
    "        \n",
    "        self.model_best    = AmoebaZeroModel()\n",
    "        self.model_trained = copy.deepcopy(self.model_best)\n",
    "    \n",
    "    def main_loop(self):\n",
    "        #self_play\n",
    "        while True:\n",
    "            #train\n",
    "            if evaluate_trained():\n",
    "                self.model_best = copy.deepcopy(self.model_trained)\n",
    "                #self_play\n",
    "                \n",
    "    def self_play(self):\n",
    "        for i in range(SELFPLAY_NR):\n",
    "            pass\n",
    "    \n",
    "    def train(self):\n",
    "        for i in range(TRAINING_LOOP_NR):\n",
    "            pass\n",
    "            \n",
    "            \n",
    "    def evaluate_trained(self):\n",
    "        balance = 0 #+ if trained, - if best won more\n",
    "        \n",
    "        #best begins\n",
    "        for i in range(EVAL_NR//2):\n",
    "            g  = Game()\n",
    "            nr = 0\n",
    "            while (g.winner==0):\n",
    "                if nr%2==0:\n",
    "                    mcts = MCTS(g, self.model_best.evaluate)\n",
    "                    x,y,_ = mcts.select_move()\n",
    "                    g.move(x,y)\n",
    "                else:\n",
    "                    mcts = MCTS(g, self.model_trained.evaluate)\n",
    "                    x,y,_ = mcts.select_move()\n",
    "                    g.move(x,y)\n",
    "                nr+=1\n",
    "            if g.winner == 1:\n",
    "                balance -= 1\n",
    "            elif g.winner == 2:\n",
    "                balance += 1\n",
    "\n",
    "        #trained begins\n",
    "        for i in range(EVAL_NR//2):\n",
    "            g  = Game()\n",
    "            nr = 0\n",
    "            while (g.winner==0):\n",
    "                if nr%2==0:\n",
    "                    mcts = MCTS(g, self.model_trained.evaluate)\n",
    "                    x,y,_ = mcts.select_move()\n",
    "                    g.move(x,y)\n",
    "                else:\n",
    "                    mcts = MCTS(g, self.model_best.evaluate)\n",
    "                    x,y,_ = mcts.select_move()\n",
    "                    g.move(x,y)\n",
    "                nr+=1\n",
    "            if g.winner == 1:\n",
    "                balance += 1\n",
    "            elif g.winner == 2:\n",
    "                balance -= 1\n",
    "                \n",
    "        return balance >= THRESHOLD:\n",
    "           \n",
    "        \n",
    "        "
   ]
  }
 ],
 "metadata": {
  "kernelspec": {
   "display_name": "Python 3",
   "language": "python",
   "name": "python3"
  },
  "language_info": {
   "codemirror_mode": {
    "name": "ipython",
    "version": 3
   },
   "file_extension": ".py",
   "mimetype": "text/x-python",
   "name": "python",
   "nbconvert_exporter": "python",
   "pygments_lexer": "ipython3",
   "version": "3.6.3"
  }
 },
 "nbformat": 4,
 "nbformat_minor": 2
}
