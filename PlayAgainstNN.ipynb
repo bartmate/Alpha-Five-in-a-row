{
 "cells": [
  {
   "cell_type": "code",
   "execution_count": 1,
   "metadata": {},
   "outputs": [
    {
     "name": "stderr",
     "output_type": "stream",
     "text": [
      "Using TensorFlow backend.\n"
     ]
    }
   ],
   "source": [
    "import keras.models\n",
    "\n",
    "from MCTS import MCTS\n",
    "from Game import *\n",
    "from model import AmoebaZeroModel"
   ]
  },
  {
   "cell_type": "code",
   "execution_count": 2,
   "metadata": {
    "collapsed": true
   },
   "outputs": [],
   "source": [
    "# Select the network:\n",
    "MODEL = './models/saved_model_0.h5'\n",
    "\n",
    "# Select who you are (X=0 or O=1)\n",
    "HUMAN = 0\n",
    "\n"
   ]
  },
  {
   "cell_type": "code",
   "execution_count": 3,
   "metadata": {},
   "outputs": [],
   "source": [
    "model = AmoebaZeroModel()\n",
    "model.model = keras.models.load_model(MODEL)\n"
   ]
  },
  {
   "cell_type": "code",
   "execution_count": 4,
   "metadata": {},
   "outputs": [
    {
     "name": "stdout",
     "output_type": "stream",
     "text": [
      " ABCDE\n",
      "-----------------\n",
      "|     |1\n",
      "|     |2\n",
      "|     |3\n",
      "|     |4\n",
      "|     |5\n",
      "-----------------\n",
      "Next move: c3\n",
      " ABCDE\n",
      "-----------------\n",
      "|     |1\n",
      "|     |2\n",
      "|  X  |3\n",
      "|     |4\n",
      "|     |5\n",
      "-----------------\n",
      " ABCDE\n",
      "-----------------\n",
      "|     |1\n",
      "|     |2\n",
      "|  X  |3\n",
      "|     |4\n",
      "|   O |5\n",
      "-----------------\n",
      "Next move: a1\n",
      " ABCDE\n",
      "-----------------\n",
      "|X    |1\n",
      "|     |2\n",
      "|  X  |3\n",
      "|     |4\n",
      "|   O |5\n",
      "-----------------\n",
      " ABCDE\n",
      "-----------------\n",
      "|X    |1\n",
      "|     |2\n",
      "|  X  |3\n",
      "| O   |4\n",
      "|   O |5\n",
      "-----------------\n",
      "Next move: a2\n",
      " ABCDE\n",
      "-----------------\n",
      "|X    |1\n",
      "|X    |2\n",
      "|  X  |3\n",
      "| O   |4\n",
      "|   O |5\n",
      "-----------------\n",
      " ABCDE\n",
      "-----------------\n",
      "|X    |1\n",
      "|X  O |2\n",
      "|  X  |3\n",
      "| O   |4\n",
      "|   O |5\n",
      "-----------------\n",
      "Next move: e1\n",
      " ABCDE\n",
      "-----------------\n",
      "|X   X|1\n",
      "|X  O |2\n",
      "|  X  |3\n",
      "| O   |4\n",
      "|   O |5\n",
      "-----------------\n",
      " ABCDE\n",
      "-----------------\n",
      "|XO  X|1\n",
      "|X  O |2\n",
      "|  X  |3\n",
      "| O   |4\n",
      "|   O |5\n",
      "-----------------\n",
      "Next move: e6\n",
      "Next move: e5\n",
      " ABCDE\n",
      "-----------------\n",
      "|XO  X|1\n",
      "|X  O |2\n",
      "|  X  |3\n",
      "| O   |4\n",
      "|   OX|5\n",
      "-----------------\n",
      " ABCDE\n",
      "-----------------\n",
      "|XO  X|1\n",
      "|X  O |2\n",
      "|  XO |3\n",
      "| O   |4\n",
      "|   OX|5\n",
      "-----------------\n",
      "Next move: e4\n",
      " ABCDE\n",
      "-----------------\n",
      "|XO  X|1\n",
      "|X  O |2\n",
      "|  XO |3\n",
      "| O  X|4\n",
      "|   OX|5\n",
      "-----------------\n",
      " ABCDE\n",
      "-----------------\n",
      "|XO OX|1\n",
      "|X  O |2\n",
      "|  XO |3\n",
      "| O  X|4\n",
      "|   OX|5\n",
      "-----------------\n",
      "Winner:  2\n"
     ]
    }
   ],
   "source": [
    "g = Game()\n",
    "g.print()\n",
    "nr = 0\n",
    "while (g.winner==0):\n",
    "    if nr%2 == HUMAN:\n",
    "        x = -1\n",
    "        y = -1\n",
    "        while x<0 or x>=N or y<0 or y>=N or g.grid[x,y]!=0:\n",
    "            s = input(\"Next move: \")\n",
    "            x = ord(s[0])-97\n",
    "            y = int(s[1:])-1\n",
    "        \n",
    "        g.move(x,y)\n",
    "        g.print() \n",
    "    else:\n",
    "        mcts = MCTS(g, lambda g: model.evaluate(g))\n",
    "        x,y,_ = mcts.select_move()\n",
    "        g.move(x,y)\n",
    "        g.print() \n",
    "    nr += 1\n",
    "print(\"Winner: \", g.winner)    \n"
   ]
  },
  {
   "cell_type": "code",
   "execution_count": null,
   "metadata": {
    "collapsed": true
   },
   "outputs": [],
   "source": []
  }
 ],
 "metadata": {
  "kernelspec": {
   "display_name": "Python 3",
   "language": "python",
   "name": "python3"
  },
  "language_info": {
   "codemirror_mode": {
    "name": "ipython",
    "version": 3
   },
   "file_extension": ".py",
   "mimetype": "text/x-python",
   "name": "python",
   "nbconvert_exporter": "python",
   "pygments_lexer": "ipython3",
   "version": "3.6.3"
  }
 },
 "nbformat": 4,
 "nbformat_minor": 2
}
