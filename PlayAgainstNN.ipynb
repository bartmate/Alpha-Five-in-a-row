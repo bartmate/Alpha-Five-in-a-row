{
 "cells": [
  {
   "cell_type": "code",
   "execution_count": null,
   "metadata": {},
   "outputs": [],
   "source": [
    "import keras.models\n",
    "\n",
    "from MCTS import MCTS\n",
    "from Game import Game \n",
    "from model import AmoebaZeroModel"
   ]
  },
  {
   "cell_type": "code",
   "execution_count": null,
   "metadata": {},
   "outputs": [],
   "source": [
    "# Select the network:\n",
    "MODEL = './models/saved_model_1.h5'\n",
    "\n",
    "# Select who are you (X=0 or O=1)\n",
    "HUMAN = 0\n",
    "\n"
   ]
  },
  {
   "cell_type": "code",
   "execution_count": null,
   "metadata": {},
   "outputs": [],
   "source": [
    "model = AmoebaZeroModel()\n",
    "model.model = keras.models.load_model(MODEL)\n"
   ]
  },
  {
   "cell_type": "code",
   "execution_count": null,
   "metadata": {},
   "outputs": [],
   "source": [
    "g = Game()\n",
    "g.print()\n",
    "nr = 0\n",
    "while (g.winner==0):\n",
    "    if nr%2 == HUMAN:\n",
    "        x = -1\n",
    "        y = -1\n",
    "        while x<0 or x>=15 or y<0 or y>=15 or g.grid[x,y]!=0:\n",
    "            s = input(\"Next move: \")\n",
    "            x = ord(s[0])-97\n",
    "            y = int(s[1:])-1\n",
    "        \n",
    "        g.move(x,y)\n",
    "        g.print() \n",
    "    else:\n",
    "        mcts = MCTS(g, lambda g: model.evaluate(g))\n",
    "        x,y,_ = mcts.select_move()\n",
    "        g.move(x,y)\n",
    "        g.print() \n",
    "    nr += 1\n",
    "print(\"Winner: \", g.winner)    \n"
   ]
  },
  {
   "cell_type": "code",
   "execution_count": null,
   "metadata": {},
   "outputs": [],
   "source": []
  }
 ],
 "metadata": {
  "kernelspec": {
   "display_name": "Python 3",
   "language": "python",
   "name": "python3"
  },
  "language_info": {
   "codemirror_mode": {
    "name": "ipython",
    "version": 3
   },
   "file_extension": ".py",
   "mimetype": "text/x-python",
   "name": "python",
   "nbconvert_exporter": "python",
   "pygments_lexer": "ipython3",
   "version": "3.6.8"
  }
 },
 "nbformat": 4,
 "nbformat_minor": 2
}
