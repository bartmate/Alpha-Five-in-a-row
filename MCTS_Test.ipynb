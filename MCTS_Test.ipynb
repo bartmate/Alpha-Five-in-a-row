{
 "cells": [
  {
   "cell_type": "code",
   "execution_count": 12,
   "metadata": {
    "collapsed": true
   },
   "outputs": [],
   "source": [
    "import copy\n",
    "\n",
    "from Game import * \n",
    "import params"
   ]
  },
  {
   "cell_type": "code",
   "execution_count": 13,
   "metadata": {
    "collapsed": true
   },
   "outputs": [],
   "source": [
    "class Node:\n",
    "    def __init__(self):\n",
    "        self.edges = []\n",
    "        "
   ]
  },
  {
   "cell_type": "code",
   "execution_count": 14,
   "metadata": {},
   "outputs": [],
   "source": [
    "class Edge:\n",
    "    def __init__(self, x, y, node = None, p = 0.0):\n",
    "        self.N = 0\n",
    "        self.W = 0.0\n",
    "        self.Q = 0.0\n",
    "        self.P = p\n",
    "        self.act_x = x\n",
    "        self.act_y = y\n",
    "        \n",
    "        self.result_node = node       \n",
    "        "
   ]
  },
  {
   "cell_type": "code",
   "execution_count": 15,
   "metadata": {
    "collapsed": true
   },
   "outputs": [],
   "source": [
    "class MCTS:\n",
    "    def __init__(self, game, evaluator, root_node = None):\n",
    "        self.root_node = root_node\n",
    "        if self.root_node == None:\n",
    "            self.root_node = Node()\n",
    "        self.game = game\n",
    "        self.evaluator = evaluator\n",
    "            \n",
    "            \n",
    "    def select_move(self):\n",
    "        for i in range(params.MTCS_NR):\n",
    "            g = copy.deep_copy(game)\n",
    "            self.reach_leaf_node_and_update_edges_and_extend(g)\n",
    "            \n",
    "    \n",
    "        if MCTS_COMP:\n",
    "            maxN = -1\n",
    "            arr = []\n",
    "            for edge in root_node.edges:\n",
    "                if edge.N > maxN:\n",
    "                    maxN = edge.N\n",
    "                    arr=[]\n",
    "                    arr.append(edge)\n",
    "                elif edge.N == maxN:\n",
    "                    arr.append(edge)                    \n",
    "            edge = np.random.choice(arr)            \n",
    "        else:\n",
    "            prob=np.array( len(root_node.edges) )\n",
    "            for i in range(len(root_node.edges)):\n",
    "                prob[i] = float(root_node.edges[i].N)**(1.0/MCTS_TAU)\n",
    "            index = np.random.choice( len(root_node.edges), prob)\n",
    "            edge = root_node.edges[index]\n",
    "\n",
    "        g = copy.deep_copy(game)\n",
    "        g.move(edge.act_x, edge.act_y)\n",
    "        return edge.act_x, edge.act_y, edge.result_node, g\n",
    "\n",
    "    def reach_leaf_node_and_update_edges_and_extend(g):\n",
    "        curr = root_node\n",
    "        route = []\n",
    "        while len(curr.edges) != 0:\n",
    "            prob=np.array( len(curr.edges) )\n",
    "            for i in range(len(curr.edges)):\n",
    "                Q = curr.edges[i].Q\n",
    "                U = MTCS_U_COEFF * curr.edges[i].P / (1.0 + curr.edges[i].N)\n",
    "                prob[i] = Q + U\n",
    "            index = np.random.choice( len(curr.edges), prob)\n",
    "            edge = curr.edges[index]\n",
    "            route.append(edge)\n",
    "            curr = edge.result_node\n",
    "            g.move(edge.act_x, edge.act_y)\n",
    "        \n",
    "        p = None\n",
    "        if g.winner == 1:   # X\n",
    "            v = 0.0\n",
    "        elif g.winner == 2: # O\n",
    "            v = 1.0\n",
    "        elif g.winner == 3: # Draw\n",
    "            v = 0.5\n",
    "        else: # Not terminating state\n",
    "            p,v = self.evaluator(g)\n",
    "            \n",
    "        # Extending the current node\n",
    "        if p != None:\n",
    "            for x in range(15):\n",
    "                for y in  range(15):\n",
    "                    if g.grid[x,y] == 0:\n",
    "                        n = Node()\n",
    "                        e = Edge(x,y,n,p[x,y])\n",
    "                        curr.edges.append(e)\n",
    "        \n",
    "        # Update edges on the route\n",
    "        for i in range( len(route), -1, -1):\n",
    "            route[i].N += 1\n",
    "            route[i].W += v\n",
    "            route[i].Q = route[i].W / route[i].N\n",
    "            v = 1 - v \n",
    "\n",
    "        return g, curr    \n",
    "            "
   ]
  },
  {
   "cell_type": "code",
   "execution_count": 4,
   "metadata": {
    "collapsed": true
   },
   "outputs": [],
   "source": [
    "        \n",
    "        \n"
   ]
  },
  {
   "cell_type": "code",
   "execution_count": 5,
   "metadata": {},
   "outputs": [],
   "source": []
  },
  {
   "cell_type": "code",
   "execution_count": 6,
   "metadata": {
    "collapsed": true
   },
   "outputs": [],
   "source": []
  },
  {
   "cell_type": "code",
   "execution_count": null,
   "metadata": {},
   "outputs": [],
   "source": []
  },
  {
   "cell_type": "code",
   "execution_count": null,
   "metadata": {
    "collapsed": true
   },
   "outputs": [],
   "source": []
  }
 ],
 "metadata": {
  "kernelspec": {
   "display_name": "Python 3",
   "language": "python",
   "name": "python3"
  },
  "language_info": {
   "codemirror_mode": {
    "name": "ipython",
    "version": 3
   },
   "file_extension": ".py",
   "mimetype": "text/x-python",
   "name": "python",
   "nbconvert_exporter": "python",
   "pygments_lexer": "ipython3",
   "version": "3.6.3"
  }
 },
 "nbformat": 4,
 "nbformat_minor": 2
}
