{
 "cells": [
  {
   "cell_type": "code",
   "execution_count": 1,
   "metadata": {},
   "outputs": [
    {
     "name": "stderr",
     "output_type": "stream",
     "text": [
      "Using TensorFlow backend.\n"
     ]
    }
   ],
   "source": [
    "from keras.models import Model\n",
    "from keras.layers import *\n",
    "from keras.optimizers import Adam\n",
    "\n",
    "from Game import Game"
   ]
  },
  {
   "cell_type": "code",
   "execution_count": 2,
   "metadata": {
    "collapsed": true
   },
   "outputs": [],
   "source": [
    "FEATNR = 16\n",
    "HIDDENNR = 64\n",
    "\n",
    "class AmoebaZeroModel:\n",
    "    def __init__(self):   \n",
    "        inp = Input((15,15,3))\n",
    "\n",
    "        x = Conv2D(FEATNR, (3, 3), padding = 'SAME')(inp)\n",
    "        x = BatchNormalization()(x)\n",
    "        x = Activation('relu')(x)\n",
    "\n",
    "        x = Conv2D(FEATNR, (3, 3), padding = 'SAME')(x)\n",
    "        x = BatchNormalization()(x)\n",
    "        x = Activation('relu')(x)\n",
    "\n",
    "        x = Conv2D(FEATNR, (3, 3), padding = 'SAME')(x)\n",
    "        x = BatchNormalization()(x)\n",
    "        x = Activation('relu')(x)\n",
    "\n",
    "        x = Conv2D(FEATNR, (3, 3), padding = 'SAME')(x)\n",
    "        x = BatchNormalization()(x)\n",
    "        x = Activation('relu')(x)\n",
    "\n",
    "        x = Conv2D(FEATNR, (3, 3), padding = 'SAME')(x)\n",
    "        x = BatchNormalization()(x)\n",
    "        base = Activation('relu')(x)\n",
    "        \n",
    "        x1 = Conv2D(1, (3, 3), padding = 'SAME')(base)\n",
    "        x1 = BatchNormalization()(x1)\n",
    "        x1 = Activation('relu')(x1)\n",
    "        out_p = Dense(225, activation = 'softmax', name = 'out_p')(x1)\n",
    "        \n",
    "        x2 = Conv2D(1, (3, 3), padding = 'SAME')(base)\n",
    "        x2 = BatchNormalization()(x2)\n",
    "        x2 = Activation('relu')(x2)\n",
    "        x2 = Dense(HIDDENNR, activation = 'relu')(x2)\n",
    "        out_v = Dense(1, activation = 'sigmoid', name = 'out_v')(x2)\n",
    "        \n",
    "        self.model = Model(inputs = inp, outputs = [out_p,out_v])\n",
    "        \n",
    "        losses = { \"out_p\": \"categorical_crossentropy\", \"out_v\": \"mse\"}\n",
    "        lossWeights = {\"out_p\": 1.0, \"out_v\": 1.0}\n",
    "        \n",
    "        opt = Adam()\n",
    "        \n",
    "        self.model.compile(optimizer=opt, loss=losses, loss_weights=lossWeights,\n",
    "                          metrics={\"out_p\": \"categorical_crossentropy\", \"out_v\": \"mse\"})\n",
    "    \n",
    "    def evaluate(self, game):\n",
    "        pass\n",
    "    \n",
    "    \n",
    "    def train(self):\n",
    "        pass\n",
    "    \n"
   ]
  },
  {
   "cell_type": "code",
   "execution_count": 3,
   "metadata": {},
   "outputs": [],
   "source": [
    "m = AmoebaZeroModel()"
   ]
  },
  {
   "cell_type": "code",
   "execution_count": null,
   "metadata": {
    "collapsed": true
   },
   "outputs": [],
   "source": []
  }
 ],
 "metadata": {
  "kernelspec": {
   "display_name": "Python 3",
   "language": "python",
   "name": "python3"
  },
  "language_info": {
   "codemirror_mode": {
    "name": "ipython",
    "version": 3
   },
   "file_extension": ".py",
   "mimetype": "text/x-python",
   "name": "python",
   "nbconvert_exporter": "python",
   "pygments_lexer": "ipython3",
   "version": "3.6.3"
  }
 },
 "nbformat": 4,
 "nbformat_minor": 2
}
